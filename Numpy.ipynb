{
  "nbformat": 4,
  "nbformat_minor": 0,
  "metadata": {
    "colab": {
      "provenance": [],
      "authorship_tag": "ABX9TyPq/qge1T78DZZhg2tGO5Dg",
      "include_colab_link": true
    },
    "kernelspec": {
      "name": "python3",
      "display_name": "Python 3"
    },
    "language_info": {
      "name": "python"
    }
  },
  "cells": [
    {
      "cell_type": "markdown",
      "metadata": {
        "id": "view-in-github",
        "colab_type": "text"
      },
      "source": [
        "<a href=\"https://colab.research.google.com/github/kumarpraveengmail/kumarpraveengmail/blob/main/Numpy.ipynb\" target=\"_parent\"><img src=\"https://colab.research.google.com/assets/colab-badge.svg\" alt=\"Open In Colab\"/></a>"
      ]
    },
    {
      "cell_type": "markdown",
      "source": [
        "# **Numpy 1st**"
      ],
      "metadata": {
        "id": "tV6syJThYNuM"
      }
    },
    {
      "cell_type": "code",
      "execution_count": null,
      "metadata": {
        "colab": {
          "base_uri": "https://localhost:8080/"
        },
        "id": "XHTgubUWXqtO",
        "outputId": "0ffd000a-ac38-4f8b-b120-7acaa41f0cb2"
      },
      "outputs": [
        {
          "output_type": "stream",
          "name": "stdout",
          "text": [
            "[1, 2, 3, 4, 5, 6, 7, 8]\n",
            "[1 2 3 4 5 6 7 8]\n"
          ]
        }
      ],
      "source": [
        "python_list = [1,2,3,4,5,6,7,8]\n",
        "print(python_list)\n",
        "\n",
        "import numpy as np\n",
        "numpy_array = np.array(python_list)\n",
        "print(numpy_array)\n"
      ]
    },
    {
      "cell_type": "markdown",
      "source": [
        "# **1D Array**"
      ],
      "metadata": {
        "id": "7wywVTNuZ7w0"
      }
    },
    {
      "cell_type": "code",
      "source": [
        "import numpy as np\n",
        "ar_1d = np.array([1,2,3,4,5])\n",
        "print(ar_1d)"
      ],
      "metadata": {
        "colab": {
          "base_uri": "https://localhost:8080/"
        },
        "id": "Ex1_ThEsXyfc",
        "outputId": "e9052f27-2c3a-4725-86cd-1e6220f41657"
      },
      "execution_count": null,
      "outputs": [
        {
          "output_type": "stream",
          "name": "stdout",
          "text": [
            "[1 2 3 4 5]\n"
          ]
        }
      ]
    },
    {
      "cell_type": "markdown",
      "source": [
        "# **2D Array**\n"
      ],
      "metadata": {
        "id": "vXTv6T38aqQx"
      }
    },
    {
      "cell_type": "code",
      "source": [
        "# 2D Array\n",
        "import numpy as np\n",
        "ar_2d = np.array([[1,2,3],[4,5,6]])\n",
        "print(ar_2d)"
      ],
      "metadata": {
        "colab": {
          "base_uri": "https://localhost:8080/"
        },
        "id": "UhRsuJKJXya5",
        "outputId": "41f667d1-552c-4f9c-e219-c9f465a311f8"
      },
      "execution_count": null,
      "outputs": [
        {
          "output_type": "stream",
          "name": "stdout",
          "text": [
            "[[1 2 3]\n",
            " [4 5 6]]\n"
          ]
        }
      ]
    },
    {
      "cell_type": "markdown",
      "source": [
        "# **Multi-dimensional array**"
      ],
      "metadata": {
        "id": "JpeDLIFwagOM"
      }
    },
    {
      "cell_type": "code",
      "source": [
        "matrix = np.array([[1,2,3],[4,5,6],[7,8,9],[10,11,12]])\n",
        "print(matrix)"
      ],
      "metadata": {
        "colab": {
          "base_uri": "https://localhost:8080/"
        },
        "id": "xWGLjfrNXyZZ",
        "outputId": "dc9afbde-cc29-40ee-a28a-18a94c21da7b"
      },
      "execution_count": null,
      "outputs": [
        {
          "output_type": "stream",
          "name": "stdout",
          "text": [
            "[[ 1  2  3]\n",
            " [ 4  5  6]\n",
            " [ 7  8  9]\n",
            " [10 11 12]]\n"
          ]
        }
      ]
    },
    {
      "cell_type": "code",
      "source": [
        "#Zero\n",
        "import numpy as np\n",
        "ar_zero = np.zeros((2,3))\n",
        "print(ar_zero)"
      ],
      "metadata": {
        "id": "O1h7ieO3XyUG",
        "colab": {
          "base_uri": "https://localhost:8080/"
        },
        "outputId": "fe414ed6-bcd6-4b55-a083-6ab51a2fe1bd"
      },
      "execution_count": null,
      "outputs": [
        {
          "output_type": "stream",
          "name": "stdout",
          "text": [
            "[[0. 0. 0.]\n",
            " [0. 0. 0.]]\n"
          ]
        }
      ]
    },
    {
      "cell_type": "code",
      "source": [
        "#Ones\n",
        "import numpy as np\n",
        "ar_ones = np.ones((2,3))\n",
        "print(ar_ones)"
      ],
      "metadata": {
        "id": "q642vlJgXySj",
        "colab": {
          "base_uri": "https://localhost:8080/"
        },
        "outputId": "435e58a6-9a59-4f6d-fc3f-9cc3a3d87ae5"
      },
      "execution_count": null,
      "outputs": [
        {
          "output_type": "stream",
          "name": "stdout",
          "text": [
            "[[1. 1. 1.]\n",
            " [1. 1. 1.]]\n"
          ]
        }
      ]
    },
    {
      "cell_type": "code",
      "source": [
        "#Full Shape\n",
        "import numpy as np\n",
        "ar_full = np.full((2,3),5)\n",
        "print(ar_full)"
      ],
      "metadata": {
        "id": "WxB-pZbWXyNG",
        "colab": {
          "base_uri": "https://localhost:8080/"
        },
        "outputId": "dd3cc89c-a5af-4811-d3ea-44eb7dee12b1"
      },
      "execution_count": null,
      "outputs": [
        {
          "output_type": "stream",
          "name": "stdout",
          "text": [
            "[[5 5 5]\n",
            " [5 5 5]]\n"
          ]
        }
      ]
    },
    {
      "cell_type": "code",
      "source": [
        "# Creating Sequnce of Number in numpy\n",
        "import numpy as np\n",
        "ar_seq = np.arange(1,10,2)\n",
        "print(ar_seq)"
      ],
      "metadata": {
        "id": "ofhxiaMgXyLw",
        "colab": {
          "base_uri": "https://localhost:8080/"
        },
        "outputId": "a55db3fd-83bb-4ab5-f4ba-e782b89b2916"
      },
      "execution_count": null,
      "outputs": [
        {
          "output_type": "stream",
          "name": "stdout",
          "text": [
            "[1 3 5 7 9]\n"
          ]
        }
      ]
    },
    {
      "cell_type": "code",
      "source": [
        "# Creating identity matrices\n",
        "import numpy as np\n",
        "ar_identity = np.eye(4)\n",
        "print(ar_identity)"
      ],
      "metadata": {
        "id": "PDCxR6OwXyGl",
        "colab": {
          "base_uri": "https://localhost:8080/"
        },
        "outputId": "39972601-9d2b-4efe-a357-d351fc5c185d"
      },
      "execution_count": null,
      "outputs": [
        {
          "output_type": "stream",
          "name": "stdout",
          "text": [
            "[[1. 0. 0. 0.]\n",
            " [0. 1. 0. 0.]\n",
            " [0. 0. 1. 0.]\n",
            " [0. 0. 0. 1.]]\n"
          ]
        }
      ]
    },
    {
      "cell_type": "code",
      "source": [
        "# Shape\n",
        "import numpy as np\n",
        "ar_shape  = np.array([[1,2,3],[4,5,6]])\n",
        "ar_shape.shape\n"
      ],
      "metadata": {
        "id": "d4nUlqXKXyFP",
        "colab": {
          "base_uri": "https://localhost:8080/"
        },
        "outputId": "b285b504-9c58-4a23-85d2-6e420ef2de9a"
      },
      "execution_count": null,
      "outputs": [
        {
          "output_type": "execute_result",
          "data": {
            "text/plain": [
              "(2, 3)"
            ]
          },
          "metadata": {},
          "execution_count": 17
        }
      ]
    },
    {
      "cell_type": "code",
      "source": [
        "# Size\n",
        "import numpy as np\n",
        "ar_size = np.array([[10,20,30],[4,5,6]])\n",
        "ar_size.size"
      ],
      "metadata": {
        "id": "WkVdhlMWXyAF",
        "colab": {
          "base_uri": "https://localhost:8080/"
        },
        "outputId": "b3d41d6d-4842-4426-b626-b33b2b698a40"
      },
      "execution_count": null,
      "outputs": [
        {
          "output_type": "execute_result",
          "data": {
            "text/plain": [
              "6"
            ]
          },
          "metadata": {},
          "execution_count": 19
        }
      ]
    },
    {
      "cell_type": "code",
      "source": [
        "# ndim\n",
        "import numpy as np\n",
        "new_var = 2\n",
        "ar_1d = np.array([1,new_var,3])\n",
        "ar_2d = np.array([[1,2,3],[4,5,6]])\n",
        "ar_3d = np.array([[[1,2,3],[4,5,6]],[[7,8,9],[10,11,12]]])\n",
        "\n",
        "print(ar_1d.ndim)\n",
        "print(ar_2d.ndim)\n",
        "print(ar_3d.ndim)"
      ],
      "metadata": {
        "id": "L7S2hUkXXx-s",
        "colab": {
          "base_uri": "https://localhost:8080/"
        },
        "outputId": "fcc35b3c-4dc4-45b2-a727-b7b5c2655819"
      },
      "execution_count": null,
      "outputs": [
        {
          "output_type": "stream",
          "name": "stdout",
          "text": [
            "1\n",
            "2\n",
            "3\n"
          ]
        }
      ]
    },
    {
      "cell_type": "code",
      "source": [
        "# dtype\n",
        "\n",
        "import numpy as np\n",
        "ar_dtype1 = np.array([1,2,3,4,9])\n",
        "ar_dtype2 = np.array([1.1,2.2,3.3,4.4])\n",
        "ar_dtype3 = np.array([\"a\",\"b\",\"c\",\"d\"])\n",
        "\n",
        "print(ar_dtype.dtype)\n",
        "print(ar_dtype2.dtype)\n",
        "print(ar_dtype3.dtype)"
      ],
      "metadata": {
        "id": "PqCDq9U-Xx54",
        "colab": {
          "base_uri": "https://localhost:8080/"
        },
        "outputId": "f073919a-5e54-421e-9f4b-1a7a866cb76e"
      },
      "execution_count": null,
      "outputs": [
        {
          "output_type": "stream",
          "name": "stdout",
          "text": [
            "int64\n",
            "float64\n",
            "<U1\n"
          ]
        }
      ]
    },
    {
      "cell_type": "code",
      "source": [
        "# astype\n",
        "import numpy as np\n",
        "ar_dtyp = np.array([1.1,2.2,3.3,4.4])\n",
        "int_array = ar_dtyp.astype(int)\n",
        "print(ar_dtyp.dtype)\n",
        "print(int_array.dtype)"
      ],
      "metadata": {
        "id": "lmWmkHs4Xx4h",
        "colab": {
          "base_uri": "https://localhost:8080/"
        },
        "outputId": "40c09dee-ddfb-447b-d869-1545d6bf05a1"
      },
      "execution_count": null,
      "outputs": [
        {
          "output_type": "stream",
          "name": "stdout",
          "text": [
            "float64\n",
            "int64\n"
          ]
        }
      ]
    },
    {
      "cell_type": "code",
      "source": [
        "# mathmatices\n",
        "arr = np.array([10,30,20])\n",
        "\n",
        "print(arr+5)\n",
        "print(arr-5)\n",
        "print(arr*5)\n",
        "print(arr/5)\n",
        "print(arr%5)\n",
        "print(arr**5)"
      ],
      "metadata": {
        "id": "oh4OsmIBXxzc",
        "colab": {
          "base_uri": "https://localhost:8080/"
        },
        "outputId": "068e9c40-8631-4756-b6c6-9a94d6f4c46b"
      },
      "execution_count": null,
      "outputs": [
        {
          "output_type": "stream",
          "name": "stdout",
          "text": [
            "[15 35 25]\n",
            "[ 5 25 15]\n",
            "[ 50 150 100]\n",
            "[2. 6. 4.]\n",
            "[0 0 0]\n",
            "[  100000 24300000  3200000]\n"
          ]
        }
      ]
    },
    {
      "cell_type": "code",
      "source": [
        "#  Agg_func\n",
        "import numpy as np\n",
        "arr = np.array([23,12,43,54,12,66,1,32,7,3,6,4,8,54,34,22,12,13,14,19])\n",
        "print('min ',np.min(arr))\n",
        "print('max ',np.max(arr))\n",
        "print('mean ',np.mean(arr))\n",
        "print('median ',np.median(arr))\n",
        "print('std ',np.std(arr))\n",
        "print('var ',np.var(arr))\n",
        "print('sum ',np.sum(arr))\n",
        "print('prod ',np.prod(arr))\n",
        "print('sum ',sum(arr))"
      ],
      "metadata": {
        "id": "YC61WgwfXxyG",
        "colab": {
          "base_uri": "https://localhost:8080/"
        },
        "outputId": "a102cce7-734a-4a7c-890d-fc6da2e6dc57"
      },
      "execution_count": null,
      "outputs": [
        {
          "output_type": "stream",
          "name": "stdout",
          "text": [
            "min  1\n",
            "max  66\n",
            "mean  21.95\n",
            "median  13.5\n",
            "std  18.61041375144572\n",
            "var  346.34749999999997\n",
            "sum  439\n",
            "prod  8058576634413842432\n",
            "sum  439\n"
          ]
        }
      ]
    },
    {
      "cell_type": "code",
      "source": [
        "import  numpy as np\n",
        "arr = np.array([23,12,43,54,12,66,1,32,7,3,6,4,8,54,34,22,12,13,14,19])\n",
        "print(arr[1:5]) # index  1 to 4\n",
        "print(arr[:4]) # index 0 to 4\n",
        "print(arr[::2]) # every second element\n",
        "print(arr[::-1]) # reverse"
      ],
      "metadata": {
        "id": "HI6JO0qvXxtO",
        "colab": {
          "base_uri": "https://localhost:8080/"
        },
        "outputId": "a1f64cf3-304e-4a38-e350-88d61652b604"
      },
      "execution_count": null,
      "outputs": [
        {
          "output_type": "stream",
          "name": "stdout",
          "text": [
            "[12 43 54 12]\n",
            "[23 12 43 54]\n",
            "[23 43 12  1  7  6  8 34 12 14]\n",
            "[19 14 13 12 22 34 54  8  4  6  3  7 32  1 66 12 54 43 12 23]\n"
          ]
        }
      ]
    },
    {
      "cell_type": "code",
      "source": [
        "import numpy as np\n",
        "arr = np.array([23,12,43,54,12,66,1,32,7,3,6,4,8,54,34,22,12,13,14,19])\n",
        "print(arr[[0,2,4]])"
      ],
      "metadata": {
        "id": "BgWBE2ICXxr4",
        "colab": {
          "base_uri": "https://localhost:8080/"
        },
        "outputId": "471da836-39b4-4174-c635-f6840da019b6"
      },
      "execution_count": null,
      "outputs": [
        {
          "output_type": "stream",
          "name": "stdout",
          "text": [
            "[23 43 12]\n"
          ]
        }
      ]
    },
    {
      "cell_type": "code",
      "source": [
        "# Reshaping and manipulating\n",
        "import numpy as np\n",
        "arr = np.array([23,12,43,54,12,66,1,32,7,3,6,4,8,54,34,22,12,13,14,19])\n",
        "print(arr)\n",
        "print(arr.shape)\n",
        "print(len(arr))\n",
        "arr_reshape = arr.reshape(4,5)\n",
        "print(arr_reshape)\n",
        "print(arr_reshape.shape)\n",
        "print(len(arr_reshape))"
      ],
      "metadata": {
        "id": "VMwleV3-XxnU",
        "colab": {
          "base_uri": "https://localhost:8080/"
        },
        "outputId": "0ce59e3b-4120-49b9-90a3-356de650ec42"
      },
      "execution_count": null,
      "outputs": [
        {
          "output_type": "stream",
          "name": "stdout",
          "text": [
            "[23 12 43 54 12 66  1 32  7  3  6  4  8 54 34 22 12 13 14 19]\n",
            "(20,)\n",
            "20\n",
            "[[23 12 43 54 12]\n",
            " [66  1 32  7  3]\n",
            " [ 6  4  8 54 34]\n",
            " [22 12 13 14 19]]\n",
            "(4, 5)\n",
            "4\n"
          ]
        }
      ]
    },
    {
      "cell_type": "code",
      "source": [
        "import numpy as np\n",
        "# .ravel() - value\n",
        "# .flatten() - copy\n",
        "arr_2d = np.array([[1,2,3],[4,5,6]]) # Convert list to NumPy array\n",
        "print(arr_2d)\n",
        "print(arr_2d.flatten())\n",
        "print(arr_2d.ravel())"
      ],
      "metadata": {
        "id": "c1cGk5pMXxl5",
        "colab": {
          "base_uri": "https://localhost:8080/"
        },
        "outputId": "fe153bc3-9bf6-43dd-d37e-44b6308431e7"
      },
      "execution_count": null,
      "outputs": [
        {
          "output_type": "stream",
          "name": "stdout",
          "text": [
            "[[1 2 3]\n",
            " [4 5 6]]\n",
            "[1 2 3 4 5 6]\n",
            "[1 2 3 4 5 6]\n"
          ]
        }
      ]
    },
    {
      "cell_type": "code",
      "source": [
        "\"\"\" Advanced Numpy Array\n",
        "np.insert(array,index,value,asix=None)\n",
        "np.delete(array,index,axis=None)\n",
        "np.append(array,value,axis=None)\n",
        "np.unique(array)\n",
        "\"\"\"\n",
        "\n",
        "import numpy as np\n",
        "\n",
        "arr = np.array([23,12,43,54,12,66,1,32,7,3,6,4,8,54,34,22,12,13,14,19])\n",
        "print(arr)\n",
        "new_arr = np.insert(arr,2,100)\n",
        "print(new_arr)"
      ],
      "metadata": {
        "id": "arPgSygmXxg6",
        "colab": {
          "base_uri": "https://localhost:8080/"
        },
        "outputId": "f88a82ba-6a49-4f84-eeb9-9b1c1e697240"
      },
      "execution_count": null,
      "outputs": [
        {
          "output_type": "stream",
          "name": "stdout",
          "text": [
            "[23 12 43 54 12 66  1 32  7  3  6  4  8 54 34 22 12 13 14 19]\n",
            "[ 23  12 100  43  54  12  66   1  32   7   3   6   4   8  54  34  22  12\n",
            "  13  14  19]\n"
          ]
        }
      ]
    },
    {
      "cell_type": "code",
      "source": [
        "import numpy as np\n",
        "\n",
        "arr_2d = np.array([[1,2,3],[4,5,6]]) # Convert list to NumPy array\n",
        "print(arr_2d)\n",
        "new_arr_2d = np.insert(arr_2d,2,[100,56],axis=1)\n",
        "print(new_arr_2d)"
      ],
      "metadata": {
        "id": "9mBCmy_pXxfn",
        "colab": {
          "base_uri": "https://localhost:8080/"
        },
        "outputId": "19678e0c-2ca8-4049-b2d3-5ac2ce6a7e60"
      },
      "execution_count": null,
      "outputs": [
        {
          "output_type": "stream",
          "name": "stdout",
          "text": [
            "[[1 2 3]\n",
            " [4 5 6]]\n",
            "[[  1   2 100   3]\n",
            " [  4   5  56   6]]\n"
          ]
        }
      ]
    },
    {
      "cell_type": "code",
      "source": [
        "\"\"\"\n",
        "np.concatenet(array1,,array2),axis=None)\n",
        "axis = 0 (row)\n",
        "axis = 1 (column)\n",
        "\"\"\"\n",
        "import numpy as np\n",
        "arr1 = np.array([1,2,3])\n",
        "arr2 = np.array([4,5,6])\n",
        "arr3 = np.concatenate((arr1,arr2))\n",
        "print(arr3)"
      ],
      "metadata": {
        "id": "nuPwdUVAXxax",
        "colab": {
          "base_uri": "https://localhost:8080/"
        },
        "outputId": "82068eab-4049-45d5-9e8a-46289239594b"
      },
      "execution_count": 1,
      "outputs": [
        {
          "output_type": "stream",
          "name": "stdout",
          "text": [
            "[1 2 3 4 5 6]\n"
          ]
        }
      ]
    },
    {
      "cell_type": "code",
      "source": [
        "\"\"\"\n",
        "np.delete(array,index,axis=None)\n",
        "flatten array\n",
        "\"\"\"\n",
        "import numpy as np\n",
        "arr = np.array([23,12,43,54,12,66,1,32,7,3,6,4,8,54,34,22,12,13,14,19])\n",
        "print(arr)\n",
        "new_arr = np.delete(arr,2)\n",
        "print(new_arr)"
      ],
      "metadata": {
        "id": "kI1Ysiu1XxZd",
        "colab": {
          "base_uri": "https://localhost:8080/"
        },
        "outputId": "7e80be95-fb92-4b00-b3ba-6e86c72065e7"
      },
      "execution_count": 2,
      "outputs": [
        {
          "output_type": "stream",
          "name": "stdout",
          "text": [
            "[23 12 43 54 12 66  1 32  7  3  6  4  8 54 34 22 12 13 14 19]\n",
            "[23 12 54 12 66  1 32  7  3  6  4  8 54 34 22 12 13 14 19]\n"
          ]
        }
      ]
    },
    {
      "cell_type": "code",
      "source": [
        "import numpy as np\n",
        "arr_2d = np.array([[1,2,3],[4,5,6]]) # Convert list to NumPy array\n",
        "print(arr_2d)\n",
        "new_arr_2d = np.delete(arr_2d,1,axis=0)\n",
        "print(new_arr_2d)"
      ],
      "metadata": {
        "id": "OaBEbSRtXxUX",
        "colab": {
          "base_uri": "https://localhost:8080/"
        },
        "outputId": "bcfb7fdd-2410-4ae2-daac-f44ae7ba59c8"
      },
      "execution_count": 7,
      "outputs": [
        {
          "output_type": "stream",
          "name": "stdout",
          "text": [
            "[[1 2 3]\n",
            " [4 5 6]]\n",
            "[[1 2 3]]\n"
          ]
        }
      ]
    },
    {
      "cell_type": "code",
      "source": [
        "# spling\n",
        "# hsplit\n",
        "# vsplit\n",
        "\n",
        "import numpy as np\n",
        "arr = np.array([1,2,3,4,5,6,7,8])\n",
        "print(arr)\n",
        "new_arr = np.array_split(arr,3)\n",
        "print(new_arr)\n",
        "\n",
        "print(new_arr[0])\n",
        "print(new_arr[1])\n",
        "print(new_arr[2])\n",
        "\n",
        "print(new_arr[0][2])"
      ],
      "metadata": {
        "id": "7-U5ylgDXxTD",
        "colab": {
          "base_uri": "https://localhost:8080/"
        },
        "outputId": "b6abc129-1d40-47b7-8dc9-d98a0897bbf2"
      },
      "execution_count": 10,
      "outputs": [
        {
          "output_type": "stream",
          "name": "stdout",
          "text": [
            "[1 2 3 4 5 6 7 8]\n",
            "[array([1, 2, 3]), array([4, 5, 6]), array([7, 8])]\n",
            "[1 2 3]\n",
            "[4 5 6]\n",
            "[7 8]\n",
            "3\n"
          ]
        }
      ]
    },
    {
      "cell_type": "code",
      "source": [
        "# Brodcasting\n",
        "import numpy as np\n",
        "prices =  [100,200,300,400,500]\n",
        "discount = 10\n",
        "final_prices = []\n",
        "for price in prices:\n",
        "  final_price = price - (price*discount/100)\n",
        "  final_prices.append(final_price)\n",
        "\n",
        "print(final_prices)\n"
      ],
      "metadata": {
        "id": "bkLKavjsXxOt",
        "colab": {
          "base_uri": "https://localhost:8080/"
        },
        "outputId": "92793471-bb45-4c5a-f239-522c41c1dab2"
      },
      "execution_count": 16,
      "outputs": [
        {
          "output_type": "stream",
          "name": "stdout",
          "text": [
            "[90.0, 180.0, 270.0, 360.0, 450.0]\n"
          ]
        }
      ]
    },
    {
      "cell_type": "code",
      "source": [],
      "metadata": {
        "id": "WJ3yWzXdXxNW"
      },
      "execution_count": null,
      "outputs": []
    },
    {
      "cell_type": "code",
      "source": [],
      "metadata": {
        "id": "ki_1YuSO_dFQ"
      },
      "execution_count": null,
      "outputs": []
    },
    {
      "cell_type": "code",
      "source": [],
      "metadata": {
        "id": "EUBt_NwY_dAq"
      },
      "execution_count": null,
      "outputs": []
    },
    {
      "cell_type": "code",
      "source": [],
      "metadata": {
        "id": "UvMrqGaJ_c_D"
      },
      "execution_count": null,
      "outputs": []
    },
    {
      "cell_type": "code",
      "source": [],
      "metadata": {
        "id": "cED3N7k9_c5k"
      },
      "execution_count": null,
      "outputs": []
    },
    {
      "cell_type": "code",
      "source": [],
      "metadata": {
        "id": "OGk3TGii_c4A"
      },
      "execution_count": null,
      "outputs": []
    },
    {
      "cell_type": "code",
      "source": [],
      "metadata": {
        "id": "Rd8USpbR_cyn"
      },
      "execution_count": null,
      "outputs": []
    },
    {
      "cell_type": "code",
      "source": [],
      "metadata": {
        "id": "GNrGp8fF_cxA"
      },
      "execution_count": null,
      "outputs": []
    },
    {
      "cell_type": "code",
      "source": [],
      "metadata": {
        "id": "jHqANZ2R_csO"
      },
      "execution_count": null,
      "outputs": []
    },
    {
      "cell_type": "code",
      "source": [],
      "metadata": {
        "id": "WZus_Fu3_cqq"
      },
      "execution_count": null,
      "outputs": []
    },
    {
      "cell_type": "code",
      "source": [],
      "metadata": {
        "id": "E4yXg6pc_clh"
      },
      "execution_count": null,
      "outputs": []
    },
    {
      "cell_type": "code",
      "source": [],
      "metadata": {
        "id": "dJKyoARS_cj2"
      },
      "execution_count": null,
      "outputs": []
    },
    {
      "cell_type": "code",
      "source": [],
      "metadata": {
        "id": "dwsDfyYu_cej"
      },
      "execution_count": null,
      "outputs": []
    },
    {
      "cell_type": "code",
      "source": [],
      "metadata": {
        "id": "erh2Cnvl_cc0"
      },
      "execution_count": null,
      "outputs": []
    }
  ]
}